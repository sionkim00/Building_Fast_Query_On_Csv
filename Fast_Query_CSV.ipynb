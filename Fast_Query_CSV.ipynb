{
 "cells": [
  {
   "cell_type": "markdown",
   "metadata": {},
   "source": [
    "# Fast Query On CSV\n",
    "Writing a fast query on csv dataset, and comparing time efficiency.\n",
    "Dataset: https://www.kaggle.com/ionaskel/laptop-prices"
   ]
  },
  {
   "cell_type": "code",
   "execution_count": 4,
   "metadata": {
    "scrolled": false
   },
   "outputs": [
    {
     "name": "stdout",
     "output_type": "stream",
     "text": [
      "['Id', 'Company', 'Product', 'TypeName', 'Inches', 'ScreenResolution', 'Cpu', 'Ram', 'Memory', 'Gpu', 'OpSys', 'Weight', 'Price']\n",
      "\n",
      "['6571244', 'Apple', 'MacBook Pro', 'Ultrabook', '13.3', 'IPS Panel Retina Display 2560x1600', 'Intel Core i5 2.3GHz', '8GB', '128GB SSD', 'Intel Iris Plus Graphics 640', 'macOS', '1.37kg', '1339']\n",
      "['7287764', 'Apple', 'Macbook Air', 'Ultrabook', '13.3', '1440x900', 'Intel Core i5 1.8GHz', '8GB', '128GB Flash Storage', 'Intel HD Graphics 6000', 'macOS', '1.34kg', '898']\n",
      "['3362737', 'HP', '250 G6', 'Notebook', '15.6', 'Full HD 1920x1080', 'Intel Core i5 7200U 2.5GHz', '8GB', '256GB SSD', 'Intel HD Graphics 620', 'No OS', '1.86kg', '575']\n",
      "['9722156', 'Apple', 'MacBook Pro', 'Ultrabook', '15.4', 'IPS Panel Retina Display 2880x1800', 'Intel Core i7 2.7GHz', '16GB', '512GB SSD', 'AMD Radeon Pro 455', 'macOS', '1.83kg', '2537']\n",
      "['8550527', 'Apple', 'MacBook Pro', 'Ultrabook', '13.3', 'IPS Panel Retina Display 2560x1600', 'Intel Core i5 3.1GHz', '8GB', '256GB SSD', 'Intel Iris Plus Graphics 650', 'macOS', '1.37kg', '1803']\n",
      "\n",
      "rows: 1303\n"
     ]
    }
   ],
   "source": [
    "#Reading laptops.csv\n",
    "import csv\n",
    "with open('laptops.csv') as csv_file:\n",
    "    file = list(csv.reader(csv_file))\n",
    "    #separating header and body of the dataset\n",
    "    header = file[0]\n",
    "    rows = file[1:]\n",
    "    \n",
    "print(header)\n",
    "print()\n",
    "for row in rows[:5]:\n",
    "    print(row)"
   ]
  },
  {
   "cell_type": "markdown",
   "metadata": {},
   "source": [
    "## Inventory Class"
   ]
  },
  {
   "cell_type": "code",
   "execution_count": 5,
   "metadata": {},
   "outputs": [
    {
     "name": "stdout",
     "output_type": "stream",
     "text": [
      "['Id', 'Company', 'Product', 'TypeName', 'Inches', 'ScreenResolution', 'Cpu', 'Ram', 'Memory', 'Gpu', 'OpSys', 'Weight', 'Price']\n",
      "1303\n"
     ]
    }
   ],
   "source": [
    "class Inventory():\n",
    "    #implementing the constructor\n",
    "    def __init__(self, csv_filename):\n",
    "        with open(csv_filename) as csv_file:\n",
    "            file = list(csv.reader(csv_file))\n",
    "            self.header = file[0]\n",
    "            self.rows = file[1:]\n",
    "            \n",
    "            #converting price column of each row to an integer\n",
    "            for row in self.rows:\n",
    "                row[-1] = int(row[-1])\n",
    "test = Inventory('laptops.csv')\n",
    "print(test.header)\n",
    "print(len(test.rows))"
   ]
  },
  {
   "cell_type": "markdown",
   "metadata": {},
   "source": [
    "## Look up a laptop from a given identifier\n",
    "\n",
    "we're going to create a method get_laptop_from_id inside the inventory class. This way, we can quickly identify the laptop corresponding to id.\n",
    "\n",
    "This algorithm go through every single row, and has time complexity of O(r), where r is the number of rows."
   ]
  },
  {
   "cell_type": "code",
   "execution_count": 10,
   "metadata": {},
   "outputs": [
    {
     "name": "stdout",
     "output_type": "stream",
     "text": [
      "250 G6\n",
      "None\n"
     ]
    }
   ],
   "source": [
    "class Inventory():\n",
    "    #implementing the constructor\n",
    "    def __init__(self, csv_filename):\n",
    "        with open(csv_filename) as csv_file:\n",
    "            file = list(csv.reader(csv_file))\n",
    "            self.header = file[0]\n",
    "            self.rows = file[1:]\n",
    "            \n",
    "            #converting price column of each row to an integer\n",
    "            for row in self.rows:\n",
    "                row[-1] = int(row[-1])\n",
    "    \n",
    "    def get_laptop_from_id(self, laptop_id):\n",
    "        for row in self.rows:\n",
    "            if row[0] == laptop_id:\n",
    "                return row[2]\n",
    "        return None\n",
    "test = Inventory('laptops.csv')\n",
    "print(test.get_laptop_from_id('3362737'))\n",
    "print(test.get_laptop_from_id('3362736'))"
   ]
  },
  {
   "cell_type": "markdown",
   "metadata": {},
   "source": [
    "## Improve identifier to work more efficiently"
   ]
  },
  {
   "cell_type": "code",
   "execution_count": 19,
   "metadata": {
    "scrolled": true
   },
   "outputs": [
    {
     "name": "stdout",
     "output_type": "stream",
     "text": [
      "250 G6\n",
      "None\n"
     ]
    }
   ],
   "source": [
    "class Inventory():\n",
    "    #implementing the constructor\n",
    "    def __init__(self, csv_filename):\n",
    "        with open(csv_filename) as csv_file:\n",
    "            file = list(csv.reader(csv_file))\n",
    "            self.header = file[0]\n",
    "            self.rows = file[1:]\n",
    "            \n",
    "        #converting price column of each row to an integer\n",
    "        for row in self.rows:\n",
    "            row[-1] = int(row[-1])\n",
    "        \n",
    "        #create a dictionary, which takes row id as the key and the row as the value\n",
    "        self.id_to_row = {}\n",
    "        for row in self.rows:\n",
    "            self.id_to_row[row[0]] = row\n",
    "        \n",
    "    def get_laptop_from_id(self, laptop_id):\n",
    "        for row in self.rows:\n",
    "            if row[0] == laptop_id:\n",
    "                return row[2]\n",
    "        return None\n",
    "    \n",
    "    def get_laptop_from_id_fast(self, laptop_id):\n",
    "        if laptop_id in self.id_to_row:\n",
    "            return self.id_to_row[laptop_id][2]\n",
    "        else:\n",
    "            return None\n",
    "test = Inventory('laptops.csv')\n",
    "print(test.get_laptop_from_id_fast('3362737'))\n",
    "print(test.get_laptop_from_id_fast('3362736'))"
   ]
  },
  {
   "cell_type": "markdown",
   "metadata": {},
   "source": [
    "## Compare the performance of identifiers"
   ]
  },
  {
   "cell_type": "code",
   "execution_count": 23,
   "metadata": {},
   "outputs": [
    {
     "name": "stdout",
     "output_type": "stream",
     "text": [
      "0.998218297958374\n",
      "0.0045430660247802734\n"
     ]
    }
   ],
   "source": [
    "import time\n",
    "import random\n",
    "ids = [str(random.randint(1000000,9999999)) for _ in range(10000)]\n",
    "test = Inventory('laptops.csv')\n",
    "\n",
    "total_time_no_dict = 0\n",
    "for id in ids:\n",
    "    start = time.time()\n",
    "    test.get_laptop_from_id(id)\n",
    "    end = time.time()\n",
    "    total_time_no_dict += (end - start)\n",
    "\n",
    "total_time_dict = 0\n",
    "for id in ids:\n",
    "    start = time.time()\n",
    "    test.get_laptop_from_id_fast(id)\n",
    "    end = time.time()\n",
    "    total_time_dict += (end - start)\n",
    "    \n",
    "print(total_time_no_dict)\n",
    "print(total_time_dict)"
   ]
  },
  {
   "cell_type": "markdown",
   "metadata": {},
   "source": [
    "## Analysis\n"
   ]
  },
  {
   "cell_type": "markdown",
   "metadata": {},
   "source": [
    "## Laptop promotion\n",
    "Suppose that the store offers a promotion where you get a gift card. We'll write a method that checks whether it is possible to spend exactly that amount by purchasing up to 2 laptops."
   ]
  },
  {
   "cell_type": "code",
   "execution_count": 24,
   "metadata": {},
   "outputs": [
    {
     "name": "stdout",
     "output_type": "stream",
     "text": [
      "True\n",
      "False\n"
     ]
    }
   ],
   "source": [
    "class Inventory():\n",
    "    #implementing the constructor\n",
    "    def __init__(self, csv_filename):\n",
    "        with open(csv_filename) as csv_file:\n",
    "            file = list(csv.reader(csv_file))\n",
    "            self.header = file[0]\n",
    "            self.rows = file[1:]\n",
    "            \n",
    "        #converting price column of each row to an integer\n",
    "        for row in self.rows:\n",
    "            row[-1] = int(row[-1])\n",
    "        \n",
    "        #create a dictionary, which takes row id as the key and the row as the value\n",
    "        self.id_to_row = {}\n",
    "        for row in self.rows:\n",
    "            self.id_to_row[row[0]] = row\n",
    "        \n",
    "    def get_laptop_from_id(self, laptop_id):\n",
    "        for row in self.rows:\n",
    "            if row[0] == laptop_id:\n",
    "                return row[2]\n",
    "        return None\n",
    "    \n",
    "    def get_laptop_from_id_fast(self, laptop_id):\n",
    "        if laptop_id in self.id_to_row:\n",
    "            return self.id_to_row[laptop_id][2]\n",
    "        else:\n",
    "            return None\n",
    "    \n",
    "    def check_promotion_dollars(self, dollars):\n",
    "        #check if there exists a laptop, which has same price as dolalrs.\n",
    "        for row in self.rows:\n",
    "            if row[-1] == dollars:\n",
    "                return True\n",
    "        \n",
    "        #check if there exists a pair whose prices add up to dollars.\n",
    "        for row1 in self.rows:\n",
    "            for row2 in self.rows:\n",
    "                if (row1[-1] + row2[-1]) == dollars:\n",
    "                    return True\n",
    "                \n",
    "        return False\n",
    "\n",
    "test = Inventory('laptops.csv')\n",
    "print(test.check_promotion_dollars(1000))\n",
    "print(test.check_promotion_dollars(442))"
   ]
  },
  {
   "cell_type": "markdown",
   "metadata": {},
   "source": [
    "## Improve checker to run faster\n",
    "Idea: we can store all laptop prices in a set, since we only care whether there is a solution."
   ]
  },
  {
   "cell_type": "code",
   "execution_count": 26,
   "metadata": {},
   "outputs": [
    {
     "name": "stdout",
     "output_type": "stream",
     "text": [
      "True\n",
      "False\n"
     ]
    }
   ],
   "source": [
    "class Inventory():\n",
    "    #implementing the constructor\n",
    "    def __init__(self, csv_filename):\n",
    "        with open(csv_filename) as csv_file:\n",
    "            file = list(csv.reader(csv_file))\n",
    "            self.header = file[0]\n",
    "            self.rows = file[1:]\n",
    "            \n",
    "        #converting price column of each row to an integer\n",
    "        for row in self.rows:\n",
    "            row[-1] = int(row[-1])\n",
    "        \n",
    "        #create a dictionary, which takes row id as the key and the row as the value\n",
    "        self.id_to_row = {}\n",
    "        for row in self.rows:\n",
    "            self.id_to_row[row[0]] = row\n",
    "        #create a set, which contains price of all laptops \n",
    "        self.prices = set()\n",
    "        for row in self.rows:\n",
    "            self.prices.add(row[-1])\n",
    "        \n",
    "    def get_laptop_from_id(self, laptop_id):\n",
    "        for row in self.rows:\n",
    "            if row[0] == laptop_id:\n",
    "                return row[2]\n",
    "        return None\n",
    "    \n",
    "    def get_laptop_from_id_fast(self, laptop_id):\n",
    "        if laptop_id in self.id_to_row:\n",
    "            return self.id_to_row[laptop_id][2]\n",
    "        else:\n",
    "            return None\n",
    "    \n",
    "    def check_promotion_dollars(self, dollars):\n",
    "        #check if there exists a laptop, which has same price as dolalrs.\n",
    "        for row in self.rows:\n",
    "            if row[-1] == dollars:\n",
    "                return True\n",
    "        \n",
    "        #check if there exists a pair whose prices add up to dollars.\n",
    "        for row1 in self.rows:\n",
    "            for row2 in self.rows:\n",
    "                if (row1[-1] + row2[-1]) == dollars:\n",
    "                    return True\n",
    "                \n",
    "        return False\n",
    "    \n",
    "    def check_promotion_dollars_fast(self, dollars):\n",
    "        #check if there exists a laptop, which has same price as dollars\n",
    "        if dollars in self.prices:\n",
    "            return True\n",
    "        \n",
    "        for price in self.prices:\n",
    "            if (dollars - price) in self.prices:\n",
    "                return True\n",
    "        return False\n",
    "    \n",
    "test = Inventory('laptops.csv')\n",
    "print(test.check_promotion_dollars_fast(1000))\n",
    "print(test.check_promotion_dollars_fast(442))"
   ]
  },
  {
   "cell_type": "markdown",
   "metadata": {},
   "source": [
    "## Compare the performance of checkers\n"
   ]
  },
  {
   "cell_type": "code",
   "execution_count": 29,
   "metadata": {},
   "outputs": [
    {
     "name": "stdout",
     "output_type": "stream",
     "text": [
      "1.5313310623168945\n",
      "0.0005676746368408203\n"
     ]
    }
   ],
   "source": [
    "prices = [random.randint(100, 5000) for _ in range(100)]\n",
    "test = Inventory('laptops.csv')\n",
    "total_time_no_set = 0\n",
    "for price in prices:\n",
    "    start = time.time()\n",
    "    test.check_promotion_dollars(price)\n",
    "    end = time.time()\n",
    "    total_time_no_set += (end - start)\n",
    "\n",
    "total_time_set = 0\n",
    "for price in prices:\n",
    "    start = time.time()\n",
    "    test.check_promotion_dollars_fast(price)\n",
    "    end = time.time()\n",
    "    total_time_set += (end - start)\n",
    "    \n",
    "print(total_time_no_set)\n",
    "print(total_time_set)"
   ]
  }
 ],
 "metadata": {
  "kernelspec": {
   "display_name": "Python 3",
   "language": "python",
   "name": "python3"
  },
  "language_info": {
   "codemirror_mode": {
    "name": "ipython",
    "version": 3
   },
   "file_extension": ".py",
   "mimetype": "text/x-python",
   "name": "python",
   "nbconvert_exporter": "python",
   "pygments_lexer": "ipython3",
   "version": "3.7.6"
  }
 },
 "nbformat": 4,
 "nbformat_minor": 2
}
